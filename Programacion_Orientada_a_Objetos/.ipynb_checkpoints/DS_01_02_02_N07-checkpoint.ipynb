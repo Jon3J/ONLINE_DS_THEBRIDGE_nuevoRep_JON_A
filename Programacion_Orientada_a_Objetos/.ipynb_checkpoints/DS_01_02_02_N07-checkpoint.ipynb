{
 "cells": [
  {
   "cell_type": "code",
   "execution_count": null,
   "metadata": {
    "id": "vigJnuAMSU4x"
   },
   "outputs": [],
   "source": [
    "#![TheBridge_logo_RGB_color.jpg](attachment:TheBridge_logo_RGB_color.jpg)"
   ]
  },
  {
   "cell_type": "code",
   "execution_count": null,
   "metadata": {
    "id": "2xmnwM17SU4y"
   },
   "outputs": [],
   "source": [
    "#![ejercicios.png](attachment:ejercicios.png)"
   ]
  },
  {
   "cell_type": "markdown",
   "metadata": {
    "id": "liorA-1ZSU4y"
   },
   "source": [
    "# Ejercicios Clases y Objetos"
   ]
  },
  {
   "cell_type": "markdown",
   "metadata": {
    "id": "5xXUz5l9SU4z"
   },
   "source": [
    "## Ejercicio 1\n",
    "Somos una empresa que tiene varias tiendas de electrodomesticos. Necesitamos un programa para manejar las tiendas, ver las ventas que han tenido, cuántos empleados hay, etc... Para ello vamos a modelizar la tienda en una clase, que tendrá las siguientes características:\n",
    "* Nombre clase: \"Tienda\"\n",
    "* Atributos comunes:\n",
    "    * Tipo: \"Electrodomésticos\"\n",
    "    * Abierta: True\n",
    "* Atributos propios de cada tienda:\n",
    "    * Nombre - String\n",
    "    * Dirección - String\n",
    "    * Número de empleados - int\n",
    "    * Ventas ultimos 3 meses - Lista de 3 numeros\n",
    "* Método para calcular las ventas de todos los meses, que devuelva un numero con todas las ventas.\n",
    "* Método que calcula la media de ventas de los ultimos meses, por empleado\n",
    "* Método que devuelve en un string el nombre de la tienda, junto con su dirección.\n",
    "* Método que obtiene las ventas del último mes.\n",
    "* Método para dar una proyección de las ventas en caso de haber invertido X dinero en marketing en esa tienda. Siendo X el parámetro de entrada. Si X es menor de 1000, las ventas de los ultimos 3 meses hubiesen sido de (1.2 x ventas), si es mayor o igual de 1000, las ventas hubiesen sido de (1.5 x venta). El método reescribe el atributo de ventas en los últimos 3 meses, y además devuelve las ventas con el aumento.\n",
    "\n",
    "Se pide:\n",
    "1. Implementar la clase \"Tienda\"\n",
    "2. Crear tres tiendas con datos inventados\n",
    "3. Comprueba en al menos una de ellas, todo lo implementado en la clase tienda (sus atributos, media de ventas, ventas/empleado...)\n",
    "3. Calcular las ventas del último mes de todas las tiendas. Para ello usa el bucle `for`\n",
    "4. Imprime por pantalla los nombres de las tiendas cuya dirección lleve el string \"Avenida\"\n",
    "5. Seguro que ya has hecho este apartado... Documenta la clase :)"
   ]
  },
  {
   "cell_type": "code",
   "execution_count": 27,
   "metadata": {
    "id": "5cLQcLxfSU4z"
   },
   "outputs": [],
   "source": [
    "class Tienda:\n",
    "    tipo = \"Electrodomésticos\" #Atributos comunes\n",
    "    abierta = True\n",
    "\n",
    "    def __init__(self,nombre,direccion,numero_empleados,ventas_ultimos_tres_meses): #Inicializamos atributos para cada tienda\n",
    "        self.nombre = nombre\n",
    "        self.direccion = direccion\n",
    "        self.n_emple = numero_empleados\n",
    "        self.ventas = ventas_ultimos_tres_meses\n",
    "\n",
    "    def calcular_ventas(self): \n",
    "        return sum(self.ventas)\n",
    "\n",
    "    def calcular_media_ventas_por_empleado(self):\n",
    "        ventasTotales = self.calcular_ventas()\n",
    "        if self.n_emple>0:\n",
    "            return round(ventasTotales/self.n_emple,2)\n",
    "        return 0\n",
    "\n",
    "    def informacion_tienda(self):\n",
    "        return f\"Tienda: {self.nombre}, Dirección: {self.direccion}\"\n",
    "\n",
    "    def ventas_ultimo_mes(self):\n",
    "        return self.ventas[-1]\n",
    "\n",
    "    def proyeccion_ventas(self,X):\n",
    "        if X < 1000:\n",
    "            fact = 1.2 \n",
    "        else:\n",
    "            fact = 1.5 \n",
    "        ventas_nuevas = [venta * fact for venta in self.ventas]\n",
    "        self.ventas = ventas_nuevas\n",
    "        return ventas_nuevas"
   ]
  },
  {
   "cell_type": "code",
   "execution_count": 33,
   "metadata": {},
   "outputs": [
    {
     "name": "stdout",
     "output_type": "stream",
     "text": [
      "Tienda: Electronics, Dirección: Calle Falsa 2\n",
      "Ventas totales:  16300\n",
      "Media de ventas de los últimos meses por empleado:  1253.85\n",
      "Ventas último mes:  4000\n",
      "Nuevas ventas con inversión de 1100: [6750.0, 11700.0, 6000.0]\n",
      "Ventas del último mes de Electronics: 6000.0\n",
      "Ventas del último mes de Tectronics: 3000\n",
      "Ventas del último mes de ElectrónProtón: 5000\n",
      "Tectronics\n"
     ]
    }
   ],
   "source": [
    "tienda1 = Tienda(\"Electronics\",\"Calle Falsa 2\",13,[4500,7800,4000]) #Creamos 3 tiendas\n",
    "tienda2 = Tienda(\"Tectronics\",\"Avenida de las delicias\",22,[5000,9000,3000])\n",
    "tienda3 = Tienda(\"ElectrónProtón\",\"Calle de la ira 45\",7,[6000,8000,5000])\n",
    "#Bien aqui vamos a comprobar para una tienda si sus atributos están bien realizados\n",
    "print(tienda1.informacion_tienda())\n",
    "print(\"Ventas totales: \",tienda1.calcular_ventas())\n",
    "print(\"Media de ventas de los últimos meses por empleado: \",tienda1.calcular_media_ventas_por_empleado())\n",
    "print(\"Ventas último mes: \",tienda1.ventas_ultimo_mes())\n",
    "#Proyección de ventas\n",
    "X = 1100\n",
    "nuevas_ventas = tienda1.proyeccion_ventas(X)\n",
    "print(f\"Nuevas ventas con inversión de {X}: {nuevas_ventas}\")\n",
    "#Calcularemos ahora las ventas del último mes de todas las tiendas\n",
    "for tienda in[tienda1,tienda2,tienda3]:\n",
    "    print(f\"Ventas del último mes de {tienda.nombre}: {tienda.ventas_ultimo_mes()}\")\n",
    "#Por último nos piden que imprimamos por pantalla los nombres de las tiendas cuya dirección lleve el string \"Avenida\".\n",
    "for tienda in[tienda1,tienda2,tienda3]:\n",
    "    if \"Avenida\" in tienda.direccion: #Realizamos una búsqueda si \"Avenida\" se encuentra en alguna de las tiendas como dirección\n",
    "        print(tienda.nombre)"
   ]
  },
  {
   "cell_type": "markdown",
   "metadata": {
    "id": "WEBq7EpsSU40"
   },
   "source": [
    "## Ejercicio 2\n",
    "En este ejercicio vamos a implementar una clase *Perro* en Python. La clase tiene las siguientes características:\n",
    "* Cosas que sabemos seguro que tiene un perro\n",
    "    * Tiene 4 patas\n",
    "    * 2 orejas\n",
    "    * 2 ojos\n",
    "    * Una velocidad de 0. Por defecto, el perro está parado\n",
    "* Cuando se inicialice:\n",
    "    * El perro será de una determinada raza\n",
    "    * Por defecto tendrá pelo \"Marrón\", a no ser que se diga lo contrario.\n",
    "    * Por defecto no tendrá dueño, a no ser que se diga lo contrario.\n",
    "    \n",
    "* Dispondrá también de un método llamado andar, que tiene un argumento de entrada (aumento_velocidad). Este valor se le sumará a la velocidad que ya llevaba el perro.\n",
    "* Necesita otro método (parar), donde pondremos la velocidad a 0.\n",
    "* Otro método llamado \"ladrar\", que tendrá un argumento de entrada, y la salida será el siguiente string: \"GUAU!\" + el argumento de entrada.\n",
    "\n",
    "\n",
    "Se pide:\n",
    "* Implementa la clase *Perro*\n",
    "* Crea un objeto de tipo *Perro*, sin dueño\n",
    "* Comprueba que están bien todos sus atributos\n",
    "* Prueba que ande, y comprueba su velocidad\n",
    "* Páralo\n",
    "* Documenta la clase *Perro*"
   ]
  },
  {
   "cell_type": "code",
   "execution_count": 18,
   "metadata": {
    "id": "DpEWvbwGSU40"
   },
   "outputs": [],
   "source": [
    "class Perro:\n",
    "    #Inicializar la clase Perro\n",
    "    def __init__(self,raza,color_pelo,tiene_duenio=False):\n",
    "        self.patas = 4\n",
    "        self.orejas = 2\n",
    "        self.ojos = 2\n",
    "        self.velocidad = 0\n",
    "        self.raza = raza\n",
    "        self.color = color_pelo\n",
    "        self.duenio = tiene_duenio\n",
    "\n",
    "    #Método andar, el cual se le incrementará la velocidad al perro ya que no estará parado.\n",
    "    def andar(self,aumento_velocidad):\n",
    "        self.velocidad = self.velocidad + aumento_velocidad\n",
    "        return self.velocidad\n",
    "        \n",
    "    #Método el cual deberemos parar al perro y que su velocidad vuelva a ser cero.\n",
    "    def parar(self):\n",
    "        self.velocidad = 0\n",
    "        return self.velocidad\n",
    "        \n",
    "    #Método el cual puede que el perro ladre, esto le pasaremos un argumento de entrada que queramos tras ladrar el perro.\n",
    "    def ladrar(self,argumento_entrada):\n",
    "        return f\"GUAU! {argumento_entrada}\""
   ]
  },
  {
   "cell_type": "code",
   "execution_count": 19,
   "metadata": {},
   "outputs": [
    {
     "name": "stdout",
     "output_type": "stream",
     "text": [
      "La raza del perro es: Bulldog Inglés\n",
      "El color de pelo del perro es: Marrón\n",
      "El perro está... sin dueño\n",
      "La velocidad del perro cuando ha comenzado a andar es de: 3\n",
      "El perro volverá a tener una velocidad de: 0  ya que se ha vuelto a parar.\n"
     ]
    }
   ],
   "source": [
    "perro = Perro(\"Bulldog Inglés\",\"Marrón\",\"sin dueño\") #Creamos el objeto de Perro\n",
    "print(\"La raza del perro es:\",perro.raza) #Comprobamos que están bien añadidos todos sus atributos\n",
    "print(\"El color de pelo del perro es:\",perro.color)\n",
    "print(\"El perro está...\",perro.duenio)\n",
    "perro.andar(3) #Llamamos al método andar el cual añadiremos una velocidad al perro, esta será de tres.\n",
    "print(\"La velocidad del perro cuando ha comenzado a andar es de:\",perro.velocidad) #Comprobamos la velocidad que deberá ser de tres.\n",
    "perro.parar() #Paremos al perro, para ello nos devolverá la velocidad por defecto del perro que estaba quito, osea de cero.\n",
    "print(\"El perro volverá a tener una velocidad de:\",perro.velocidad,\" ya que se ha vuelto a parar.\") #Aquí no lo piden pero comprobamos que su velocidad sea de 0."
   ]
  }
 ],
 "metadata": {
  "colab": {
   "provenance": []
  },
  "kernelspec": {
   "display_name": "Python 3 (ipykernel)",
   "language": "python",
   "name": "python3"
  },
  "language_info": {
   "codemirror_mode": {
    "name": "ipython",
    "version": 3
   },
   "file_extension": ".py",
   "mimetype": "text/x-python",
   "name": "python",
   "nbconvert_exporter": "python",
   "pygments_lexer": "ipython3",
   "version": "3.12.1"
  }
 },
 "nbformat": 4,
 "nbformat_minor": 4
}
